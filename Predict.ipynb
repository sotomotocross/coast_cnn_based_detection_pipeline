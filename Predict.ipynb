{
 "cells": [
  {
   "cell_type": "code",
   "execution_count": null,
   "metadata": {},
   "outputs": [],
   "source": [
    "from keras_segmentation.predict import predict_multiple\n",
    "# load and evaluate a saved model\n",
    "from numpy import loadtxt\n",
    "from keras.models import load_model\n",
    "import tensorflow as tf\n",
    "\n",
    "gpus = tf.config.experimental.list_physical_devices('GPU')\n",
    "if gpus:\n",
    "    # Restrict TensorFlow to only use the first GPU\n",
    "    try:\n",
    "      tf.config.experimental.set_visible_devices(gpus[0], 'GPU')\n",
    "      tf.config.experimental.set_virtual_device_configuration( gpus[0],\n",
    "                                                              [tf.config.experimental.VirtualDeviceConfiguration(memory_limit=2048)])\n",
    "      logical_gpus = tf.config.experimental.list_logical_devices('GPU')\n",
    "      print(len(gpus), \"Physical GPUs,\", len(logical_gpus), \"Logical GPU \\n\")\n",
    "    except RuntimeError as e:\n",
    "      # Visible devices must be set before GPUs have been initialized\n",
    "      print(e)\n",
    "\n",
    "config = tf.ConfigProto()\n",
    "config.gpu_options.allow_growth = True\n",
    "sess = tf.Session(config = config)\n",
    "gpu = tf.test.gpu_device_name()\n",
    "\n",
    "# Check available GPU devices.\n",
    "print(\"The following GPU devices are available: %s\" % tf.test.gpu_device_name())"
   ]
  },
  {
   "cell_type": "code",
   "execution_count": null,
   "metadata": {},
   "outputs": [],
   "source": [
    "predict_multiple( \n",
    "checkpoints_path=\"mobilenet_segnet224\", \n",
    "inp_dir=\"./TestFr\",\n",
    "out_dir=\"./Test_output/\" \n",
    ")"
   ]
  }
 ],
 "metadata": {
  "kernelspec": {
   "display_name": "Python 3.8.5 64-bit ('base': conda)",
   "name": "python385jvsc74a57bd0e420cea34e741d9ec99e43b3c68efd28d0e4e8d2f2811c27a3114bf3cfc49cbf"
  },
  "language_info": {
   "codemirror_mode": {
    "name": "ipython",
    "version": 3
   },
   "file_extension": ".py",
   "mimetype": "text/x-python",
   "name": "python",
   "nbconvert_exporter": "python",
   "pygments_lexer": "ipython3",
   "version": "3.8.5"
  }
 },
 "nbformat": 4,
 "nbformat_minor": 2
}
