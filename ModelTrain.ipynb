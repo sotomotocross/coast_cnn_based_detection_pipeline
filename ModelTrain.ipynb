{
 "cells": [
  {
   "cell_type": "code",
   "execution_count": 7,
   "metadata": {},
   "outputs": [],
   "source": [
    "\n",
    "from keras_segmentation.models.segnet import mobilenet_segnet\n",
    "import tensorflow as tf\n",
    "\n",
    "gpus = tf.config.experimental.list_physical_devices('GPU')\n",
    "if gpus:\n",
    "    # Restrict TensorFlow to only use the first GPU\n",
    "    try:\n",
    "      tf.config.experimental.set_visible_devices(gpus[0], 'GPU')\n",
    "      tf.config.experimental.set_virtual_device_configuration( gpus[0],\n",
    "                                                              [tf.config.experimental.VirtualDeviceConfiguration(memory_limit=2048)])\n",
    "      logical_gpus = tf.config.experimental.list_logical_devices('GPU')\n",
    "      print(len(gpus), \"Physical GPUs,\", len(logical_gpus), \"Logical GPU \\n\")\n",
    "    except RuntimeError as e:\n",
    "      # Visible devices must be set before GPUs have been initialized\n",
    "      print(e)\n",
    "\n",
    "config = tf.ConfigProto()\n",
    "config.gpu_options.allow_growth = True\n",
    "sess = tf.Session(config = config)\n",
    "gpu = tf.test.gpu_device_name()\n",
    "\n",
    "# Check available GPU devices.\n",
    "print(\"The following GPU devices are available: %s\" % tf.test.gpu_device_name())\n",
    "\n",
    "\n",
    "model = mobilenet_segnet(n_classes=2 ,  input_height=224, input_width=224  )"
   ]
  },
  {
   "cell_type": "code",
   "execution_count": null,
   "metadata": {},
   "outputs": [],
   "source": [
    "model.summary()"
   ]
  },
  {
   "cell_type": "code",
   "execution_count": 9,
   "metadata": {},
   "outputs": [],
   "source": [
    "model.compile(optimizer='adadelta', loss='categorical_crossentropy', metrics=['accuracy'])"
   ]
  },
  {
   "cell_type": "code",
   "execution_count": null,
   "metadata": {},
   "outputs": [],
   "source": [
    "model.train(\n",
    "    train_images =  \"ResizedFr/\",\n",
    "    train_annotations = \"CMasks/\",\n",
    "    checkpoints_path = \"mobilenet_segnet224\" , epochs=100,\n",
    "    batch_size=10,\n",
    "    verify_dataset=True,\n",
    "    validate=True,\n",
    "    val_images=\"TestFr\",\n",
    "    val_annotations=\"TestM\",\n",
    "    val_batch_size=10,\n",
    "    auto_resume_checkpoint=True,\n",
    "    load_weights=None,\n",
    "    steps_per_epoch=512,\n",
    "    val_steps_per_epoch=512,\n",
    "    gen_use_multiprocessing=False,\n",
    "    ignore_zero_class=False,\n",
    "    optimizer_name='adadelta',\n",
    "    do_augment=False,\n",
    "    augmentation_name=\"aug_all\",\n",
    ")"
   ]
  }
 ],
 "metadata": {
  "kernelspec": {
   "display_name": "Python 3",
   "language": "python",
   "name": "python3"
  },
  "language_info": {
   "codemirror_mode": {
    "name": "ipython",
    "version": 3
   },
   "file_extension": ".py",
   "mimetype": "text/x-python",
   "name": "python",
   "nbconvert_exporter": "python",
   "pygments_lexer": "ipython3",
   "version": "3.7.3"
  }
 },
 "nbformat": 4,
 "nbformat_minor": 2
}
